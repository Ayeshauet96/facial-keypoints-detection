{
 "cells": [
  {
   "cell_type": "code",
   "execution_count": 1,
   "id": "9914a6a4",
   "metadata": {},
   "outputs": [],
   "source": [
    "import random\n",
    "import pandas as pd\n",
    "import numpy as np\n",
    "import matplotlib.pyplot as plt"
   ]
  },
  {
   "cell_type": "code",
   "execution_count": 2,
   "id": "3f7c29d7",
   "metadata": {},
   "outputs": [],
   "source": [
    "training = pd.read_csv('Data/training.csv')"
   ]
  },
  {
   "cell_type": "code",
   "execution_count": 3,
   "id": "34d7b679",
   "metadata": {},
   "outputs": [
    {
     "data": {
      "text/html": [
       "<div>\n",
       "<style scoped>\n",
       "    .dataframe tbody tr th:only-of-type {\n",
       "        vertical-align: middle;\n",
       "    }\n",
       "\n",
       "    .dataframe tbody tr th {\n",
       "        vertical-align: top;\n",
       "    }\n",
       "\n",
       "    .dataframe thead th {\n",
       "        text-align: right;\n",
       "    }\n",
       "</style>\n",
       "<table border=\"1\" class=\"dataframe\">\n",
       "  <thead>\n",
       "    <tr style=\"text-align: right;\">\n",
       "      <th></th>\n",
       "      <th>left_eye_center_x</th>\n",
       "      <th>left_eye_center_y</th>\n",
       "      <th>right_eye_center_x</th>\n",
       "      <th>right_eye_center_y</th>\n",
       "      <th>left_eye_inner_corner_x</th>\n",
       "      <th>left_eye_inner_corner_y</th>\n",
       "      <th>left_eye_outer_corner_x</th>\n",
       "      <th>left_eye_outer_corner_y</th>\n",
       "      <th>right_eye_inner_corner_x</th>\n",
       "      <th>right_eye_inner_corner_y</th>\n",
       "      <th>...</th>\n",
       "      <th>nose_tip_y</th>\n",
       "      <th>mouth_left_corner_x</th>\n",
       "      <th>mouth_left_corner_y</th>\n",
       "      <th>mouth_right_corner_x</th>\n",
       "      <th>mouth_right_corner_y</th>\n",
       "      <th>mouth_center_top_lip_x</th>\n",
       "      <th>mouth_center_top_lip_y</th>\n",
       "      <th>mouth_center_bottom_lip_x</th>\n",
       "      <th>mouth_center_bottom_lip_y</th>\n",
       "      <th>Image</th>\n",
       "    </tr>\n",
       "  </thead>\n",
       "  <tbody>\n",
       "    <tr>\n",
       "      <th>0</th>\n",
       "      <td>66.033564</td>\n",
       "      <td>39.002274</td>\n",
       "      <td>30.227008</td>\n",
       "      <td>36.421678</td>\n",
       "      <td>59.582075</td>\n",
       "      <td>39.647423</td>\n",
       "      <td>73.130346</td>\n",
       "      <td>39.969997</td>\n",
       "      <td>36.356571</td>\n",
       "      <td>37.389402</td>\n",
       "      <td>...</td>\n",
       "      <td>57.066803</td>\n",
       "      <td>61.195308</td>\n",
       "      <td>79.970165</td>\n",
       "      <td>28.614496</td>\n",
       "      <td>77.388992</td>\n",
       "      <td>43.312602</td>\n",
       "      <td>72.935459</td>\n",
       "      <td>43.130707</td>\n",
       "      <td>84.485774</td>\n",
       "      <td>238 236 237 238 240 240 239 241 241 243 240 23...</td>\n",
       "    </tr>\n",
       "    <tr>\n",
       "      <th>1</th>\n",
       "      <td>64.332936</td>\n",
       "      <td>34.970077</td>\n",
       "      <td>29.949277</td>\n",
       "      <td>33.448715</td>\n",
       "      <td>58.856170</td>\n",
       "      <td>35.274349</td>\n",
       "      <td>70.722723</td>\n",
       "      <td>36.187166</td>\n",
       "      <td>36.034723</td>\n",
       "      <td>34.361532</td>\n",
       "      <td>...</td>\n",
       "      <td>55.660936</td>\n",
       "      <td>56.421447</td>\n",
       "      <td>76.352000</td>\n",
       "      <td>35.122383</td>\n",
       "      <td>76.047660</td>\n",
       "      <td>46.684596</td>\n",
       "      <td>70.266553</td>\n",
       "      <td>45.467915</td>\n",
       "      <td>85.480170</td>\n",
       "      <td>219 215 204 196 204 211 212 200 180 168 178 19...</td>\n",
       "    </tr>\n",
       "    <tr>\n",
       "      <th>2</th>\n",
       "      <td>65.057053</td>\n",
       "      <td>34.909642</td>\n",
       "      <td>30.903789</td>\n",
       "      <td>34.909642</td>\n",
       "      <td>59.412000</td>\n",
       "      <td>36.320968</td>\n",
       "      <td>70.984421</td>\n",
       "      <td>36.320968</td>\n",
       "      <td>37.678105</td>\n",
       "      <td>36.320968</td>\n",
       "      <td>...</td>\n",
       "      <td>53.538947</td>\n",
       "      <td>60.822947</td>\n",
       "      <td>73.014316</td>\n",
       "      <td>33.726316</td>\n",
       "      <td>72.732000</td>\n",
       "      <td>47.274947</td>\n",
       "      <td>70.191789</td>\n",
       "      <td>47.274947</td>\n",
       "      <td>78.659368</td>\n",
       "      <td>144 142 159 180 188 188 184 180 167 132 84 59 ...</td>\n",
       "    </tr>\n",
       "    <tr>\n",
       "      <th>3</th>\n",
       "      <td>65.225739</td>\n",
       "      <td>37.261774</td>\n",
       "      <td>32.023096</td>\n",
       "      <td>37.261774</td>\n",
       "      <td>60.003339</td>\n",
       "      <td>39.127179</td>\n",
       "      <td>72.314713</td>\n",
       "      <td>38.380967</td>\n",
       "      <td>37.618643</td>\n",
       "      <td>38.754115</td>\n",
       "      <td>...</td>\n",
       "      <td>54.166539</td>\n",
       "      <td>65.598887</td>\n",
       "      <td>72.703722</td>\n",
       "      <td>37.245496</td>\n",
       "      <td>74.195478</td>\n",
       "      <td>50.303165</td>\n",
       "      <td>70.091687</td>\n",
       "      <td>51.561183</td>\n",
       "      <td>78.268383</td>\n",
       "      <td>193 192 193 194 194 194 193 192 168 111 50 12 ...</td>\n",
       "    </tr>\n",
       "    <tr>\n",
       "      <th>4</th>\n",
       "      <td>66.725301</td>\n",
       "      <td>39.621261</td>\n",
       "      <td>32.244810</td>\n",
       "      <td>38.042032</td>\n",
       "      <td>58.565890</td>\n",
       "      <td>39.621261</td>\n",
       "      <td>72.515926</td>\n",
       "      <td>39.884466</td>\n",
       "      <td>36.982380</td>\n",
       "      <td>39.094852</td>\n",
       "      <td>...</td>\n",
       "      <td>64.889521</td>\n",
       "      <td>60.671411</td>\n",
       "      <td>77.523239</td>\n",
       "      <td>31.191755</td>\n",
       "      <td>76.997301</td>\n",
       "      <td>44.962748</td>\n",
       "      <td>73.707387</td>\n",
       "      <td>44.227141</td>\n",
       "      <td>86.871166</td>\n",
       "      <td>147 148 160 196 215 214 216 217 219 220 206 18...</td>\n",
       "    </tr>\n",
       "  </tbody>\n",
       "</table>\n",
       "<p>5 rows × 31 columns</p>\n",
       "</div>"
      ],
      "text/plain": [
       "   left_eye_center_x  left_eye_center_y  right_eye_center_x  \\\n",
       "0          66.033564          39.002274           30.227008   \n",
       "1          64.332936          34.970077           29.949277   \n",
       "2          65.057053          34.909642           30.903789   \n",
       "3          65.225739          37.261774           32.023096   \n",
       "4          66.725301          39.621261           32.244810   \n",
       "\n",
       "   right_eye_center_y  left_eye_inner_corner_x  left_eye_inner_corner_y  \\\n",
       "0           36.421678                59.582075                39.647423   \n",
       "1           33.448715                58.856170                35.274349   \n",
       "2           34.909642                59.412000                36.320968   \n",
       "3           37.261774                60.003339                39.127179   \n",
       "4           38.042032                58.565890                39.621261   \n",
       "\n",
       "   left_eye_outer_corner_x  left_eye_outer_corner_y  right_eye_inner_corner_x  \\\n",
       "0                73.130346                39.969997                 36.356571   \n",
       "1                70.722723                36.187166                 36.034723   \n",
       "2                70.984421                36.320968                 37.678105   \n",
       "3                72.314713                38.380967                 37.618643   \n",
       "4                72.515926                39.884466                 36.982380   \n",
       "\n",
       "   right_eye_inner_corner_y  ...  nose_tip_y  mouth_left_corner_x  \\\n",
       "0                 37.389402  ...   57.066803            61.195308   \n",
       "1                 34.361532  ...   55.660936            56.421447   \n",
       "2                 36.320968  ...   53.538947            60.822947   \n",
       "3                 38.754115  ...   54.166539            65.598887   \n",
       "4                 39.094852  ...   64.889521            60.671411   \n",
       "\n",
       "   mouth_left_corner_y  mouth_right_corner_x  mouth_right_corner_y  \\\n",
       "0            79.970165             28.614496             77.388992   \n",
       "1            76.352000             35.122383             76.047660   \n",
       "2            73.014316             33.726316             72.732000   \n",
       "3            72.703722             37.245496             74.195478   \n",
       "4            77.523239             31.191755             76.997301   \n",
       "\n",
       "   mouth_center_top_lip_x  mouth_center_top_lip_y  mouth_center_bottom_lip_x  \\\n",
       "0               43.312602               72.935459                  43.130707   \n",
       "1               46.684596               70.266553                  45.467915   \n",
       "2               47.274947               70.191789                  47.274947   \n",
       "3               50.303165               70.091687                  51.561183   \n",
       "4               44.962748               73.707387                  44.227141   \n",
       "\n",
       "   mouth_center_bottom_lip_y  \\\n",
       "0                  84.485774   \n",
       "1                  85.480170   \n",
       "2                  78.659368   \n",
       "3                  78.268383   \n",
       "4                  86.871166   \n",
       "\n",
       "                                               Image  \n",
       "0  238 236 237 238 240 240 239 241 241 243 240 23...  \n",
       "1  219 215 204 196 204 211 212 200 180 168 178 19...  \n",
       "2  144 142 159 180 188 188 184 180 167 132 84 59 ...  \n",
       "3  193 192 193 194 194 194 193 192 168 111 50 12 ...  \n",
       "4  147 148 160 196 215 214 216 217 219 220 206 18...  \n",
       "\n",
       "[5 rows x 31 columns]"
      ]
     },
     "execution_count": 3,
     "metadata": {},
     "output_type": "execute_result"
    }
   ],
   "source": [
    "training.head()"
   ]
  },
  {
   "cell_type": "code",
   "execution_count": 4,
   "id": "ca42d44a",
   "metadata": {},
   "outputs": [
    {
     "name": "stdout",
     "output_type": "stream",
     "text": [
      "<class 'pandas.core.frame.DataFrame'>\n",
      "RangeIndex: 7049 entries, 0 to 7048\n",
      "Data columns (total 31 columns):\n",
      " #   Column                     Non-Null Count  Dtype  \n",
      "---  ------                     --------------  -----  \n",
      " 0   left_eye_center_x          7039 non-null   float64\n",
      " 1   left_eye_center_y          7039 non-null   float64\n",
      " 2   right_eye_center_x         7036 non-null   float64\n",
      " 3   right_eye_center_y         7036 non-null   float64\n",
      " 4   left_eye_inner_corner_x    2271 non-null   float64\n",
      " 5   left_eye_inner_corner_y    2271 non-null   float64\n",
      " 6   left_eye_outer_corner_x    2267 non-null   float64\n",
      " 7   left_eye_outer_corner_y    2267 non-null   float64\n",
      " 8   right_eye_inner_corner_x   2268 non-null   float64\n",
      " 9   right_eye_inner_corner_y   2268 non-null   float64\n",
      " 10  right_eye_outer_corner_x   2268 non-null   float64\n",
      " 11  right_eye_outer_corner_y   2268 non-null   float64\n",
      " 12  left_eyebrow_inner_end_x   2270 non-null   float64\n",
      " 13  left_eyebrow_inner_end_y   2270 non-null   float64\n",
      " 14  left_eyebrow_outer_end_x   2225 non-null   float64\n",
      " 15  left_eyebrow_outer_end_y   2225 non-null   float64\n",
      " 16  right_eyebrow_inner_end_x  2270 non-null   float64\n",
      " 17  right_eyebrow_inner_end_y  2270 non-null   float64\n",
      " 18  right_eyebrow_outer_end_x  2236 non-null   float64\n",
      " 19  right_eyebrow_outer_end_y  2236 non-null   float64\n",
      " 20  nose_tip_x                 7049 non-null   float64\n",
      " 21  nose_tip_y                 7049 non-null   float64\n",
      " 22  mouth_left_corner_x        2269 non-null   float64\n",
      " 23  mouth_left_corner_y        2269 non-null   float64\n",
      " 24  mouth_right_corner_x       2270 non-null   float64\n",
      " 25  mouth_right_corner_y       2270 non-null   float64\n",
      " 26  mouth_center_top_lip_x     2275 non-null   float64\n",
      " 27  mouth_center_top_lip_y     2275 non-null   float64\n",
      " 28  mouth_center_bottom_lip_x  7016 non-null   float64\n",
      " 29  mouth_center_bottom_lip_y  7016 non-null   float64\n",
      " 30  Image                      7049 non-null   object \n",
      "dtypes: float64(30), object(1)\n",
      "memory usage: 1.7+ MB\n"
     ]
    }
   ],
   "source": [
    "training.info()"
   ]
  },
  {
   "cell_type": "code",
   "execution_count": 5,
   "id": "82d4b950",
   "metadata": {},
   "outputs": [
    {
     "data": {
      "text/plain": [
       "left_eye_center_x              10\n",
       "left_eye_center_y              10\n",
       "right_eye_center_x             13\n",
       "right_eye_center_y             13\n",
       "left_eye_inner_corner_x      4778\n",
       "left_eye_inner_corner_y      4778\n",
       "left_eye_outer_corner_x      4782\n",
       "left_eye_outer_corner_y      4782\n",
       "right_eye_inner_corner_x     4781\n",
       "right_eye_inner_corner_y     4781\n",
       "right_eye_outer_corner_x     4781\n",
       "right_eye_outer_corner_y     4781\n",
       "left_eyebrow_inner_end_x     4779\n",
       "left_eyebrow_inner_end_y     4779\n",
       "left_eyebrow_outer_end_x     4824\n",
       "left_eyebrow_outer_end_y     4824\n",
       "right_eyebrow_inner_end_x    4779\n",
       "right_eyebrow_inner_end_y    4779\n",
       "right_eyebrow_outer_end_x    4813\n",
       "right_eyebrow_outer_end_y    4813\n",
       "nose_tip_x                      0\n",
       "nose_tip_y                      0\n",
       "mouth_left_corner_x          4780\n",
       "mouth_left_corner_y          4780\n",
       "mouth_right_corner_x         4779\n",
       "mouth_right_corner_y         4779\n",
       "mouth_center_top_lip_x       4774\n",
       "mouth_center_top_lip_y       4774\n",
       "mouth_center_bottom_lip_x      33\n",
       "mouth_center_bottom_lip_y      33\n",
       "Image                           0\n",
       "dtype: int64"
      ]
     },
     "execution_count": 5,
     "metadata": {},
     "output_type": "execute_result"
    }
   ],
   "source": [
    "training.isnull().sum()\n",
    "\n"
   ]
  },
  {
   "cell_type": "code",
   "execution_count": 6,
   "id": "df6d7d03",
   "metadata": {},
   "outputs": [
    {
     "name": "stdout",
     "output_type": "stream",
     "text": [
      "<class 'pandas.core.frame.DataFrame'>\n",
      "Int64Index: 2140 entries, 0 to 2283\n",
      "Data columns (total 31 columns):\n",
      " #   Column                     Non-Null Count  Dtype  \n",
      "---  ------                     --------------  -----  \n",
      " 0   left_eye_center_x          2140 non-null   float64\n",
      " 1   left_eye_center_y          2140 non-null   float64\n",
      " 2   right_eye_center_x         2140 non-null   float64\n",
      " 3   right_eye_center_y         2140 non-null   float64\n",
      " 4   left_eye_inner_corner_x    2140 non-null   float64\n",
      " 5   left_eye_inner_corner_y    2140 non-null   float64\n",
      " 6   left_eye_outer_corner_x    2140 non-null   float64\n",
      " 7   left_eye_outer_corner_y    2140 non-null   float64\n",
      " 8   right_eye_inner_corner_x   2140 non-null   float64\n",
      " 9   right_eye_inner_corner_y   2140 non-null   float64\n",
      " 10  right_eye_outer_corner_x   2140 non-null   float64\n",
      " 11  right_eye_outer_corner_y   2140 non-null   float64\n",
      " 12  left_eyebrow_inner_end_x   2140 non-null   float64\n",
      " 13  left_eyebrow_inner_end_y   2140 non-null   float64\n",
      " 14  left_eyebrow_outer_end_x   2140 non-null   float64\n",
      " 15  left_eyebrow_outer_end_y   2140 non-null   float64\n",
      " 16  right_eyebrow_inner_end_x  2140 non-null   float64\n",
      " 17  right_eyebrow_inner_end_y  2140 non-null   float64\n",
      " 18  right_eyebrow_outer_end_x  2140 non-null   float64\n",
      " 19  right_eyebrow_outer_end_y  2140 non-null   float64\n",
      " 20  nose_tip_x                 2140 non-null   float64\n",
      " 21  nose_tip_y                 2140 non-null   float64\n",
      " 22  mouth_left_corner_x        2140 non-null   float64\n",
      " 23  mouth_left_corner_y        2140 non-null   float64\n",
      " 24  mouth_right_corner_x       2140 non-null   float64\n",
      " 25  mouth_right_corner_y       2140 non-null   float64\n",
      " 26  mouth_center_top_lip_x     2140 non-null   float64\n",
      " 27  mouth_center_top_lip_y     2140 non-null   float64\n",
      " 28  mouth_center_bottom_lip_x  2140 non-null   float64\n",
      " 29  mouth_center_bottom_lip_y  2140 non-null   float64\n",
      " 30  Image                      2140 non-null   object \n",
      "dtypes: float64(30), object(1)\n",
      "memory usage: 535.0+ KB\n"
     ]
    }
   ],
   "source": [
    "#dropping null values\n",
    "training = training.dropna()\n",
    "\n",
    "training.info()"
   ]
  },
  {
   "cell_type": "code",
   "execution_count": 7,
   "id": "c0bd1595",
   "metadata": {},
   "outputs": [],
   "source": [
    "\n",
    "\n",
    "def get_image_data(image):\n",
    "    pixels_int = np.array(image.split()).astype('int')\n",
    "    image_2d = pixels_int.reshape(96,96)\n",
    "    return image_2d"
   ]
  },
  {
   "cell_type": "code",
   "execution_count": 8,
   "id": "67baa81e",
   "metadata": {},
   "outputs": [],
   "source": [
    "image_data = []\n",
    "for im in training.Image:\n",
    "    image_data.append(get_image_data(im))\n",
    "    "
   ]
  },
  {
   "cell_type": "code",
   "execution_count": 9,
   "id": "d58e08b4",
   "metadata": {},
   "outputs": [],
   "source": [
    "image_data = np.array(image_data)"
   ]
  },
  {
   "cell_type": "code",
   "execution_count": 10,
   "id": "1d6d34dd",
   "metadata": {},
   "outputs": [
    {
     "data": {
      "text/plain": [
       "(2140, 96, 96)"
      ]
     },
     "execution_count": 10,
     "metadata": {},
     "output_type": "execute_result"
    }
   ],
   "source": [
    "image_data.shape"
   ]
  },
  {
   "cell_type": "code",
   "execution_count": 11,
   "id": "a2b951d2",
   "metadata": {},
   "outputs": [
    {
     "data": {
      "text/plain": [
       "31"
      ]
     },
     "execution_count": 11,
     "metadata": {},
     "output_type": "execute_result"
    }
   ],
   "source": [
    "len(training.columns)"
   ]
  },
  {
   "cell_type": "code",
   "execution_count": 12,
   "id": "9fbcb3a2",
   "metadata": {},
   "outputs": [
    {
     "data": {
      "image/png": "[encoded data removed]",
      "text/plain": [
       "<Figure size 500x500 with 1 Axes>"
      ]
     },
     "metadata": {},
     "output_type": "display_data"
    }
   ],
   "source": [
    "image_ind = random.randint(0, 2139)\n",
    "random_image = image_data[image_ind]\n",
    "\n",
    "plt.figure(figsize=(5,5))\n",
    "plt.imshow(random_image, cmap='gray')\n",
    "for i in range(0, len(training.columns)-2, 2):\n",
    "    plt.plot(training.iloc[image_ind, i], training.iloc[image_ind, i+1], 'x', color='r')\n",
    "\n",
    "#     plt.plot(training.iloc[image_ind, i], training.iloc[image_ind, i+1], 'x' , label=str(training.columns[i])+str(training.columns[i+1]))\n",
    "\n",
    "# plt.legend()    \n",
    "plt.show() "
   ]
  },
  {
   "cell_type": "code",
   "execution_count": 13,
   "id": "f40c6a55",
   "metadata": {},
   "outputs": [],
   "source": [
    "test = pd.read_csv('Data/test.csv')"
   ]
  },
  {
   "cell_type": "code",
   "execution_count": 14,
   "id": "cd42916d",
   "metadata": {},
   "outputs": [
    {
     "data": {
      "text/html": [
       "<div>\n",
       "<style scoped>\n",
       "    .dataframe tbody tr th:only-of-type {\n",
       "        vertical-align: middle;\n",
       "    }\n",
       "\n",
       "    .dataframe tbody tr th {\n",
       "        vertical-align: top;\n",
       "    }\n",
       "\n",
       "    .dataframe thead th {\n",
       "        text-align: right;\n",
       "    }\n",
       "</style>\n",
       "<table border=\"1\" class=\"dataframe\">\n",
       "  <thead>\n",
       "    <tr style=\"text-align: right;\">\n",
       "      <th></th>\n",
       "      <th>ImageId</th>\n",
       "      <th>Image</th>\n",
       "    </tr>\n",
       "  </thead>\n",
       "  <tbody>\n",
       "    <tr>\n",
       "      <th>0</th>\n",
       "      <td>1</td>\n",
       "      <td>182 183 182 182 180 180 176 169 156 137 124 10...</td>\n",
       "    </tr>\n",
       "    <tr>\n",
       "      <th>1</th>\n",
       "      <td>2</td>\n",
       "      <td>76 87 81 72 65 59 64 76 69 42 31 38 49 58 58 4...</td>\n",
       "    </tr>\n",
       "    <tr>\n",
       "      <th>2</th>\n",
       "      <td>3</td>\n",
       "      <td>177 176 174 170 169 169 168 166 166 166 161 14...</td>\n",
       "    </tr>\n",
       "    <tr>\n",
       "      <th>3</th>\n",
       "      <td>4</td>\n",
       "      <td>176 174 174 175 174 174 176 176 175 171 165 15...</td>\n",
       "    </tr>\n",
       "    <tr>\n",
       "      <th>4</th>\n",
       "      <td>5</td>\n",
       "      <td>50 47 44 101 144 149 120 58 48 42 35 35 37 39 ...</td>\n",
       "    </tr>\n",
       "  </tbody>\n",
       "</table>\n",
       "</div>"
      ],
      "text/plain": [
       "   ImageId                                              Image\n",
       "0        1  182 183 182 182 180 180 176 169 156 137 124 10...\n",
       "1        2  76 87 81 72 65 59 64 76 69 42 31 38 49 58 58 4...\n",
       "2        3  177 176 174 170 169 169 168 166 166 166 161 14...\n",
       "3        4  176 174 174 175 174 174 176 176 175 171 165 15...\n",
       "4        5  50 47 44 101 144 149 120 58 48 42 35 35 37 39 ..."
      ]
     },
     "execution_count": 14,
     "metadata": {},
     "output_type": "execute_result"
    }
   ],
   "source": [
    "test.head()"
   ]
  },
  {
   "cell_type": "code",
   "execution_count": 15,
   "id": "3b70f622",
   "metadata": {},
   "outputs": [],
   "source": [
    "test_image_data = []\n",
    "for im in test.Image:\n",
    "    test_image_data.append(get_image_data(im))"
   ]
  },
  {
   "cell_type": "code",
   "execution_count": 16,
   "id": "67c2f247",
   "metadata": {},
   "outputs": [],
   "source": [
    "test_image_data = np.array(test_image_data)"
   ]
  },
  {
   "cell_type": "code",
   "execution_count": 17,
   "id": "e7711f2c",
   "metadata": {},
   "outputs": [
    {
     "data": {
      "text/plain": [
       "(1783, 96, 96)"
      ]
     },
     "execution_count": 17,
     "metadata": {},
     "output_type": "execute_result"
    }
   ],
   "source": [
    "test_image_data.shape"
   ]
  },
  {
   "cell_type": "code",
   "execution_count": 18,
   "id": "7779a888",
   "metadata": {},
   "outputs": [
    {
     "data": {
      "image/png": "[encoded data removed]",
      "text/plain": [
       "<Figure size 500x500 with 1 Axes>"
      ]
     },
     "metadata": {},
     "output_type": "display_data"
    }
   ],
   "source": [
    "image_ind_t = random.randint(0, 1782)\n",
    "random_image_t = test_image_data[image_ind_t]\n",
    "\n",
    "plt.figure(figsize=(5,5))\n",
    "plt.imshow(random_image_t, cmap='gray')\n",
    "plt.show() "
   ]
  },
  {
   "cell_type": "code",
   "execution_count": 19,
   "id": "4b36daf3",
   "metadata": {},
   "outputs": [
    {
     "ename": "",
     "evalue": "",
     "output_type": "error",
     "traceback": [
      "\u001b[1;31mThe Kernel crashed while executing code in the the current cell or a previous cell. Please review the code in the cell(s) to identify a possible cause of the failure. Click <a href='https://aka.ms/vscodeJupyterKernelCrash'>here</a> for more info. View Jupyter <a href='command:jupyter.viewOutput'>log</a> for further details."
     ]
    },
    {
     "ename": "",
     "evalue": "",
     "output_type": "error",
     "traceback": [
      "\u001b[1;31mCanceled future for execute_request message before replies were done"
     ]
    }
   ],
   "source": [
    "from tensorflow import keras\n",
    "from keras import layers\n",
    "\n",
    "\n",
    "inputs = keras.Input(shape=(96, 96, 1))\n",
    "\n",
    "# Add convolutional layers\n",
    "x = layers.Conv2D(filters=16, activation=\"relu\")(inputs)\n",
    "x = layers.MaxPooling2D(pool_size=2)(x)\n",
    "x = layers.Conv2D(filters=32, activation=\"relu\")(inputs)\n",
    "x = layers.MaxPooling2D(pool_size=2)(x)\n",
    "x = layers.Conv2D(filters=128, activation=\"relu\")(inputs)\n",
    "x = layers.MaxPooling2D(pool_size=2)(x)\n",
    "x = layers.Flatten()(x)\n",
    "\n",
    "# Add dense layers\n",
    "x = layers.Dense(units= 500, activation=\"relu\")(x)\n",
    "x = layers.Dense(units = 500, activation= 'relu')(x)\n",
    "outputs = layers.Dense(units=10, activation=\"softmax\")(x)\n",
    "\n",
    "model = keras.Model(inputs=inputs, outputs=outputs)"
   ]
  },
  {
   "cell_type": "code",
   "execution_count": null,
   "id": "bfa682ad",
   "metadata": {},
   "outputs": [],
   "source": []
  }
 ],
 "metadata": {
  "kernelspec": {
   "display_name": "Python 3 (ipykernel)",
   "language": "python",
   "name": "python3"
  },
  "language_info": {
   "codemirror_mode": {
    "name": "ipython",
    "version": 3
   },
   "file_extension": ".py",
   "mimetype": "text/x-python",
   "name": "python",
   "nbconvert_exporter": "python",
   "pygments_lexer": "ipython3",
   "version": "3.9.13"
  },
  "vscode": {
   "interpreter": {
    "hash": "58a4aa63daed403586fe36eac16c3806e5e584534ce15578a188912ee79487d7"
   }
  }
 },
 "nbformat": 4,
 "nbformat_minor": 5
}
